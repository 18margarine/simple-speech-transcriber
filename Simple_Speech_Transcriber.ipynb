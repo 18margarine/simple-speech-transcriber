{
 "cells": [
  {
   "cell_type": "code",
   "execution_count": 254,
   "id": "28754a59-725b-42d8-88cc-f78231286b4b",
   "metadata": {},
   "outputs": [],
   "source": [
    "import speech_recognition as sr\n",
    "import csv\n",
    "import os\n",
    "import whisper\n",
    "import pandas as pd\n",
    "from tabulate import tabulate"
   ]
  },
  {
   "cell_type": "markdown",
   "id": "35b99258-59b4-4eaa-85c2-860c14d67b65",
   "metadata": {},
   "source": [
    "# Varying directory"
   ]
  },
  {
   "cell_type": "code",
   "execution_count": 255,
   "id": "acf0e1a3-5d16-43b7-b7e3-9a9989935a14",
   "metadata": {},
   "outputs": [],
   "source": [
    "work_dir = os.getcwd() + '\\\\audios'\n",
    "r = sr.Recognizer()"
   ]
  },
  {
   "cell_type": "code",
   "execution_count": 276,
   "id": "97171a28-603a-483f-8f77-b3226f5c3815",
   "metadata": {},
   "outputs": [],
   "source": [
    "def list_file_name():\n",
    "    all_audio = []\n",
    "    all_indexed_audio = {}\n",
    "    for file_name in os.listdir(work_dir):\n",
    "        if file_name.endswith('.wav'):\n",
    "            all_audio.append(os.path.join(work_dir,file_name))\n",
    "    for number, files in enumerate(all_audio):\n",
    "        all_indexed_audio[number] = os.path.basename(files)\n",
    "    return all_audio, all_indexed_audio #returning an indexed list for ease of use if processing specific audio"
   ]
  },
  {
   "cell_type": "code",
   "execution_count": 287,
   "id": "0c505c4c-1665-4f03-b650-175813df44ae",
   "metadata": {
    "scrolled": true
   },
   "outputs": [],
   "source": [
    "full_list, idx_full_list = list_file_name()"
   ]
  },
  {
   "cell_type": "code",
   "execution_count": 278,
   "id": "44dde5d6-8a7a-4411-80b6-ccd885710c74",
   "metadata": {},
   "outputs": [],
   "source": [
    "def display_list():\n",
    "    headers = ['Index','File Name']\n",
    "    print(tabulate(idx_full_list.items(),headers=headers))"
   ]
  },
  {
   "cell_type": "code",
   "execution_count": 294,
   "id": "de0f07c4-9701-44b2-a5df-8df25003021c",
   "metadata": {},
   "outputs": [],
   "source": [
    "def display_result(result):\n",
    "    print(tabulate(result, headers='keys',tablefmt='grid', maxcolwidths=[None, 120]))"
   ]
  },
  {
   "cell_type": "code",
   "execution_count": 280,
   "id": "aa9a4416-1962-4b22-97a2-b4f5bfb6b9b4",
   "metadata": {
    "scrolled": true
   },
   "outputs": [
    {
     "name": "stdout",
     "output_type": "stream",
     "text": [
      "  Index  File Name\n",
      "-------  --------------------------------------------\n",
      "      0  car4.wav\n",
      "      1  h5.wav\n",
      "      2  jurcic-001-120912_124317_0001940_0002325.wav\n",
      "      3  jurcic-001-120912_124746_0001976_0002481.wav\n",
      "      4  jurcic-001-120912_125002_0001940_0002174.wav\n",
      "      5  jurcic-001-120912_125244_0002021_0002372.wav\n",
      "      6  jurcic-001-120912_125521_0001945_0002242.wav\n",
      "      7  jurcic-001-120912_134010_0001997_0002402.wav\n",
      "      8  jurcic-001-120912_134951_0002063_0002220.wav\n",
      "      9  jurcic-001-120912_135053_0002037_0002411.wav\n",
      "     10  jurcic-001-120912_135142_0002038_0002582.wav\n",
      "     11  jurcic-001-120912_135345_0001944_0002178.wav\n",
      "     12  M_0048_11y6m_2.wav\n",
      "     13  M_0052_14y4m_1.wav\n",
      "     14  M_0133_8y9m_1.wav\n",
      "     15  OSR_fr_000_0041_8k.wav\n",
      "     16  OSR_uk_000_0020_8k.wav\n",
      "     17  OSR_us_000_0010_8k.wav\n",
      "     18  OSR_us_000_0011_8k.wav\n",
      "     19  OSR_us_000_0012_8k.wav\n",
      "     20  OSR_us_000_0018_8k.wav\n",
      "     21  OSR_us_000_0030_8k.wav\n",
      "     22  OSR_us_000_0038_8k.wav\n",
      "     23  OSR_us_000_0059_8k.wav\n"
     ]
    }
   ],
   "source": [
    "display_list()"
   ]
  },
  {
   "cell_type": "markdown",
   "id": "53d5e166-1a81-4e46-bf09-dff5ba540656",
   "metadata": {},
   "source": [
    "# OpenAI Whisper"
   ]
  },
  {
   "cell_type": "code",
   "execution_count": 261,
   "id": "c6c0118c-d424-4edd-a059-c497b46c3125",
   "metadata": {},
   "outputs": [],
   "source": [
    "model = whisper.load_model('medium')"
   ]
  },
  {
   "cell_type": "markdown",
   "id": "2eec8d70-623a-4483-b72a-54251757b811",
   "metadata": {},
   "source": [
    "# One audio process"
   ]
  },
  {
   "cell_type": "code",
   "execution_count": 301,
   "id": "2c365e16-e4a8-4b15-85f8-9ffcc27cbf8e",
   "metadata": {},
   "outputs": [],
   "source": [
    "def choose_one ():\n",
    "    while True:\n",
    "        i = input(f'Please select from 0-{len(full_list)-1} to process one audio: ')\n",
    "        i = i.strip()\n",
    "        if i.isdigit():\n",
    "            idx = int(i)\n",
    "            if idx in range(0, len(full_list)):\n",
    "                break\n",
    "            else:\n",
    "                print(f'{i} is not in range')\n",
    "        else:\n",
    "            print(f'{i} is not a digit')\n",
    "    return idx"
   ]
  },
  {
   "cell_type": "code",
   "execution_count": 263,
   "id": "c1082e2e-9d3f-4428-ad76-84c8accf4e1e",
   "metadata": {},
   "outputs": [],
   "source": [
    "def one_select(select):\n",
    "    selected = []\n",
    "    selected.append(full_list[select])\n",
    "    return selected"
   ]
  },
  {
   "cell_type": "code",
   "execution_count": 264,
   "id": "bb127af4-13a4-4df5-8440-f7d9e5f963ae",
   "metadata": {},
   "outputs": [],
   "source": [
    "def one_result(select):\n",
    "    single_audio = []\n",
    "    for i in select:\n",
    "        file = os.path.basename(i)\n",
    "        transcript = model.transcribe(i)['text']\n",
    "        single_audio.append({'file_name':file,'transcript':transcript})\n",
    "    return single_audio"
   ]
  },
  {
   "cell_type": "markdown",
   "id": "56228156-af2b-4a07-b53d-375d5a85ccc1",
   "metadata": {},
   "source": [
    "# Multi select audio process"
   ]
  },
  {
   "cell_type": "code",
   "execution_count": 267,
   "id": "6683517c-924f-4bc5-8218-c6547a32b2d3",
   "metadata": {},
   "outputs": [],
   "source": [
    "#List the indexes of specific audio files to process\n",
    "def specific_audio ():\n",
    "    while True:\n",
    "        int_entry = []\n",
    "        raw_entry = input(f'All duplicate digits will be counted as one\\nPlease select from 0-{len(full_list)-1} which audio to process: ').split(',')\n",
    "        for n in raw_entry:\n",
    "            stripped = n.strip()\n",
    "            if stripped.isdigit():\n",
    "                if int(stripped) in range(0,len(full_list)):\n",
    "                    int_entry.append(int(stripped))\n",
    "                else:\n",
    "                    int_entry.append(stripped)\n",
    "                    print(f'{stripped} is not in range')\n",
    "            else:\n",
    "                int_entry.append(stripped)\n",
    "                print(f'{stripped} is not a digit')\n",
    "                # str_entry = [item.strip() for item in raw_entry]\n",
    "        if all(isinstance(item,int) for item in int_entry):\n",
    "            break\n",
    "    return set(int_entry)"
   ]
  },
  {
   "cell_type": "code",
   "execution_count": 268,
   "id": "f5819414-e1ec-4851-84ed-cb1e7fcee017",
   "metadata": {},
   "outputs": [],
   "source": [
    "def multi_select(specific_audio):\n",
    "    specific_audios = []\n",
    "    for i in specific_audio:\n",
    "        specific_audios.append(full_list[int(i)])\n",
    "    return specific_audios"
   ]
  },
  {
   "cell_type": "code",
   "execution_count": 269,
   "id": "85e4a6bb-fbb5-4385-8879-0e5d9057ed6d",
   "metadata": {},
   "outputs": [],
   "source": [
    "def multi_result(files):\n",
    "    whisper_specific = []\n",
    "    for i in files:\n",
    "        file = os.path.basename(i)\n",
    "        whisper_transcript = model.transcribe(i)['text']\n",
    "        whisper_specific.append({'file_name':file,'transcript':whisper_transcript})\n",
    "    return whisper_specific"
   ]
  },
  {
   "cell_type": "markdown",
   "id": "51668b54-7d5d-4254-9fee-41f94f4ba5b2",
   "metadata": {},
   "source": [
    "# Process all audio in a folder"
   ]
  },
  {
   "cell_type": "code",
   "execution_count": 270,
   "id": "b8f28333-189f-4eea-b6e0-fe4e829ec020",
   "metadata": {},
   "outputs": [],
   "source": [
    "def whisper_all_files():\n",
    "    all_transcript = []\n",
    "    for files in full_list:\n",
    "        file = os.path.basename(files)\n",
    "        whisper_transcript = model.transcribe(files)['text']\n",
    "        all_transcript.append({'file_name':file,'transcript':whisper_transcript})\n",
    "    return all_transcript"
   ]
  },
  {
   "cell_type": "markdown",
   "id": "475a8c2e-2f19-4ca5-89ed-bac2dc2c3517",
   "metadata": {},
   "source": [
    "### CSV save and simple display"
   ]
  },
  {
   "cell_type": "code",
   "execution_count": 271,
   "id": "cc5e27ed-110c-4ce0-adb0-a74cd5c18013",
   "metadata": {},
   "outputs": [],
   "source": [
    "def save_as_csv(result):\n",
    "    output = 'transcript_whisper.csv'\n",
    "    \n",
    "    with open(output, mode='w',newline='',encoding='utf-8') as file:\n",
    "        writer = csv.writer(file)\n",
    "        writer.writerow(['Track','File Name','Transcription'])\n",
    "        for number, transcript in enumerate(result,start=1):\n",
    "            writer.writerow([number, transcript['file_name'],transcript['transcript']])\n",
    "    return output"
   ]
  },
  {
   "cell_type": "code",
   "execution_count": 272,
   "id": "b54fd9ff-9403-47bf-b923-510648b67cc0",
   "metadata": {},
   "outputs": [],
   "source": [
    "def open_csv(result):\n",
    "    with open(result,mode='r',newline='',encoding='utf-8') as file:\n",
    "        content = csv.reader(file)\n",
    "        for row in content:\n",
    "            print (row)"
   ]
  },
  {
   "cell_type": "code",
   "execution_count": 273,
   "id": "c13f1a02-be7d-41c6-b8d7-df64d32ad492",
   "metadata": {},
   "outputs": [],
   "source": [
    "def display_csv(result):\n",
    "    df = pd.read_csv(result)\n",
    "    print (df)"
   ]
  },
  {
   "cell_type": "code",
   "execution_count": null,
   "id": "2846ef24-4475-4db1-b92d-c7b0f7e9a87e",
   "metadata": {
    "scrolled": true
   },
   "outputs": [],
   "source": [
    "# choose between 1,2,3\n",
    "print('Type 1 if you want to process one audio')\n",
    "print('Type 2 if you want to select which audio to process')\n",
    "print('Type 3 if you want to process all audio:\\n')\n",
    "choice = 0\n",
    "full_list, idx_full_list = list_file_name()\n",
    "while choice != 1 or choice != 2 or choice != 3:\n",
    "    print('Please choose from 1-3\\n')\n",
    "    choice = int(input('1, 2, 3: '))\n",
    "    # if process one audio\n",
    "    if choice == 1:\n",
    "        print('Here are the lists of audios\\n')\n",
    "        display_list()\n",
    "        idx = choose_one()\n",
    "        result = (one_result(one_select(idx)))\n",
    "        break\n",
    "    # if process selected audio\n",
    "    elif choice == 2:\n",
    "        print('Here are the lists of audios\\n')\n",
    "        display_list()\n",
    "        entry = specific_audio()\n",
    "        result = multi_result(multi_select(entry))\n",
    "        break\n",
    "    # if process all audio\n",
    "    elif choice == 3:\n",
    "        print('This may take a while.')\n",
    "        print('Processing all audio in this list:')\n",
    "        display_list()\n",
    "        result = whisper_all_files()\n",
    "        break\n",
    "save_as_csv(result)\n",
    "display_result(result)\n",
    "input('Press any to close....')"
   ]
  },
  {
   "cell_type": "code",
   "execution_count": null,
   "id": "809a3d71-2995-432e-9119-59b14c22a776",
   "metadata": {},
   "outputs": [],
   "source": []
  }
 ],
 "metadata": {
  "kernelspec": {
   "display_name": "speech_env",
   "language": "python",
   "name": "speech_env"
  },
  "language_info": {
   "codemirror_mode": {
    "name": "ipython",
    "version": 3
   },
   "file_extension": ".py",
   "mimetype": "text/x-python",
   "name": "python",
   "nbconvert_exporter": "python",
   "pygments_lexer": "ipython3",
   "version": "3.9.20"
  }
 },
 "nbformat": 4,
 "nbformat_minor": 5
}
